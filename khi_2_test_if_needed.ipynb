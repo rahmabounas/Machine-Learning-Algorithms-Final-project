{
 "cells": [
  {
   "cell_type": "markdown",
   "id": "57d54c0d",
   "metadata": {},
   "source": [
    "# 📘 Chi-Squared Feature Selection for Categorical Target: 'HasDetections'\n",
    "\n",
    "\"\"\"\n",
    "This script applies the Chi-squared (χ²) statistical test to evaluate the relevance \n",
    "of each feature with respect to the categorical target variable 'HasDetections'.\n",
    "\n",
    "Chi-squared is suitable when both the features and the target are categorical \n",
    "(or when numerical features are discretized into bins).\n",
    "\"\"\"\n",
    "\n",
    "import pandas as pd\n",
    "from sklearn.preprocessing import LabelEncoder\n",
    "from sklearn.feature_selection import SelectKBest, chi2\n",
    "\n"
   ]
  },
  {
   "cell_type": "code",
   "execution_count": null,
   "id": "009abf46",
   "metadata": {
    "vscode": {
     "languageId": "plaintext"
    }
   },
   "outputs": [],
   "source": [
    "# 🎯 Define the target and features\n",
    "target_col = 'HasDetections'\n",
    "X = df.drop(columns=[target_col])\n",
    "y = df[target_col]\n",
    "\n",
    "# 🏷️ Encode categorical features (Label Encoding)\n",
    "# This assumes all features are categorical or already encoded as integers.\n",
    "X_encoded = X.copy()\n",
    "for col in X_encoded.columns:\n",
    "    if X_encoded[col].dtype == 'object' or X_encoded[col].nunique() < 100:  # tweak threshold as needed\n",
    "        X_encoded[col] = LabelEncoder().fit_transform(X_encoded[col].astype(str))\n",
    "    else:\n",
    "        # Optional: bin numerical variables if needed for chi2\n",
    "        X_encoded[col] = X_encoded[col]  # Keep as-is if already encoded or ordinal\n",
    "\n",
    "# ⚙️ Apply the Chi-squared test\n",
    "chi2_selector = SelectKBest(score_func=chi2, k='all')\n",
    "chi2_selector.fit(X_encoded, y)\n",
    "\n",
    "# 📊 Create a DataFrame of Chi-squared scores\n",
    "chi2_scores = pd.Series(chi2_selector.scores_, index=X_encoded.columns)\n",
    "chi2_scores = chi2_scores.sort_values(ascending=False)\n",
    "\n",
    "# 🏆 Display top features ranked by Chi-squared score\n",
    "print(\"🔝 Top 10 Features by Chi-squared Score:\")\n",
    "print(chi2_scores.head(10))\n",
    "\n",
    "# Optional: Visualize scores (Bar Plot)\n",
    "import matplotlib.pyplot as plt\n",
    "chi2_scores.head(15).plot(kind='barh', figsize=(10, 6), title='Top 15 Features by Chi-Squared Score')\n",
    "plt.gca().invert_yaxis()\n",
    "plt.xlabel(\"Chi-squared Score\")\n",
    "plt.tight_layout()\n",
    "plt.show()\n"
   ]
  }
 ],
 "metadata": {
  "language_info": {
   "name": "python"
  }
 },
 "nbformat": 4,
 "nbformat_minor": 5
}
